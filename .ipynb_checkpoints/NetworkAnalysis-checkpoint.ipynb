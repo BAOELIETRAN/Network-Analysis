{
 "cells": [
  {
   "cell_type": "code",
   "execution_count": 1,
   "id": "34f3d739-a9ba-4c5e-9f25-4021cfc4d3e3",
   "metadata": {
    "tags": []
   },
   "outputs": [],
   "source": [
    "import pandas as pd\n",
    "import networkx as nx\n",
    "import matplotlib.pyplot as plt\n",
    "import zed\n",
    "\n",
    "# Connect to the default lake at http://localhost:9867\n",
    "client = zed.Client()\n",
    "\n",
    "# Define the file name\n",
    "file_name = 'second_cap.pcapng'\n",
    "\n",
    "# Define the Zed query\n",
    "ZQL_query = '_path==\"conn\" | cut id.orig_h, id.orig_p, id.resp_h, id.resp_p, proto | sort id.orig_h, id.resp_h'\n",
    "\n",
    "# Execute the Zed query on the file directly\n",
    "values = client.query(f'from {file_name} | {ZQL_query}')\n",
    "\n",
    "# Convert the iterator to a list and then create a dataframe, flattening the JSON/dictionary structure\n",
    "data_frame = pd.json_normalize(list(values))"
   ]
  },
  {
   "cell_type": "markdown",
   "id": "d1d90d3d-ddbf-4715-b06b-becba9eaa993",
   "metadata": {
    "tags": []
   },
   "source": [
    "# CHECK FOR THE DATA IN DATA_FRAME:"
   ]
  },
  {
   "cell_type": "code",
   "execution_count": 2,
   "id": "d936e798-c1a9-4773-a23a-253bc6b72534",
   "metadata": {
    "tags": []
   },
   "outputs": [
    {
     "name": "stdout",
     "output_type": "stream",
     "text": [
      "44\n"
     ]
    }
   ],
   "source": [
    "#number of records (rows) that data_frame contains\n",
    "print(len(data_frame))"
   ]
  },
  {
   "cell_type": "code",
   "execution_count": 3,
   "id": "0efd6d26-5a71-4281-8010-1f22fe740414",
   "metadata": {
    "tags": []
   },
   "outputs": [
    {
     "data": {
      "text/html": [
       "<div>\n",
       "<style scoped>\n",
       "    .dataframe tbody tr th:only-of-type {\n",
       "        vertical-align: middle;\n",
       "    }\n",
       "\n",
       "    .dataframe tbody tr th {\n",
       "        vertical-align: top;\n",
       "    }\n",
       "\n",
       "    .dataframe thead th {\n",
       "        text-align: right;\n",
       "    }\n",
       "</style>\n",
       "<table border=\"1\" class=\"dataframe\">\n",
       "  <thead>\n",
       "    <tr style=\"text-align: right;\">\n",
       "      <th></th>\n",
       "      <th>proto</th>\n",
       "      <th>id.orig_h</th>\n",
       "      <th>id.orig_p</th>\n",
       "      <th>id.resp_h</th>\n",
       "      <th>id.resp_p</th>\n",
       "    </tr>\n",
       "  </thead>\n",
       "  <tbody>\n",
       "    <tr>\n",
       "      <th>0</th>\n",
       "      <td>udp</td>\n",
       "      <td>192.168.1.1</td>\n",
       "      <td>40703</td>\n",
       "      <td>239.255.255.250</td>\n",
       "      <td>1900</td>\n",
       "    </tr>\n",
       "    <tr>\n",
       "      <th>1</th>\n",
       "      <td>udp</td>\n",
       "      <td>192.168.1.134</td>\n",
       "      <td>5353</td>\n",
       "      <td>224.0.0.251</td>\n",
       "      <td>5353</td>\n",
       "    </tr>\n",
       "    <tr>\n",
       "      <th>2</th>\n",
       "      <td>udp</td>\n",
       "      <td>192.168.1.191</td>\n",
       "      <td>5353</td>\n",
       "      <td>224.0.0.251</td>\n",
       "      <td>5353</td>\n",
       "    </tr>\n",
       "    <tr>\n",
       "      <th>3</th>\n",
       "      <td>tcp</td>\n",
       "      <td>192.168.1.219</td>\n",
       "      <td>50166</td>\n",
       "      <td>3.223.248.73</td>\n",
       "      <td>443</td>\n",
       "    </tr>\n",
       "    <tr>\n",
       "      <th>4</th>\n",
       "      <td>tcp</td>\n",
       "      <td>192.168.1.219</td>\n",
       "      <td>50209</td>\n",
       "      <td>23.212.249.76</td>\n",
       "      <td>443</td>\n",
       "    </tr>\n",
       "    <tr>\n",
       "      <th>5</th>\n",
       "      <td>tcp</td>\n",
       "      <td>192.168.1.219</td>\n",
       "      <td>50208</td>\n",
       "      <td>23.212.249.76</td>\n",
       "      <td>443</td>\n",
       "    </tr>\n",
       "    <tr>\n",
       "      <th>6</th>\n",
       "      <td>tcp</td>\n",
       "      <td>192.168.1.219</td>\n",
       "      <td>49981</td>\n",
       "      <td>23.212.249.76</td>\n",
       "      <td>443</td>\n",
       "    </tr>\n",
       "    <tr>\n",
       "      <th>7</th>\n",
       "      <td>tcp</td>\n",
       "      <td>192.168.1.219</td>\n",
       "      <td>64994</td>\n",
       "      <td>31.13.66.2</td>\n",
       "      <td>443</td>\n",
       "    </tr>\n",
       "    <tr>\n",
       "      <th>8</th>\n",
       "      <td>tcp</td>\n",
       "      <td>192.168.1.219</td>\n",
       "      <td>65451</td>\n",
       "      <td>31.13.66.2</td>\n",
       "      <td>443</td>\n",
       "    </tr>\n",
       "    <tr>\n",
       "      <th>9</th>\n",
       "      <td>tcp</td>\n",
       "      <td>192.168.1.219</td>\n",
       "      <td>49180</td>\n",
       "      <td>31.13.66.2</td>\n",
       "      <td>443</td>\n",
       "    </tr>\n",
       "  </tbody>\n",
       "</table>\n",
       "</div>"
      ],
      "text/plain": [
       "  proto      id.orig_h  id.orig_p        id.resp_h  id.resp_p\n",
       "0   udp    192.168.1.1      40703  239.255.255.250       1900\n",
       "1   udp  192.168.1.134       5353      224.0.0.251       5353\n",
       "2   udp  192.168.1.191       5353      224.0.0.251       5353\n",
       "3   tcp  192.168.1.219      50166     3.223.248.73        443\n",
       "4   tcp  192.168.1.219      50209    23.212.249.76        443\n",
       "5   tcp  192.168.1.219      50208    23.212.249.76        443\n",
       "6   tcp  192.168.1.219      49981    23.212.249.76        443\n",
       "7   tcp  192.168.1.219      64994       31.13.66.2        443\n",
       "8   tcp  192.168.1.219      65451       31.13.66.2        443\n",
       "9   tcp  192.168.1.219      49180       31.13.66.2        443"
      ]
     },
     "execution_count": 3,
     "metadata": {},
     "output_type": "execute_result"
    }
   ],
   "source": [
    "# Display the first 5 rows of the DataFrame\n",
    "data_frame.head(10)"
   ]
  },
  {
   "cell_type": "code",
   "execution_count": 4,
   "id": "1282a15d-a08d-440b-9f61-ff53bb11fbde",
   "metadata": {
    "tags": []
   },
   "outputs": [
    {
     "data": {
      "text/plain": [
       "proto        object\n",
       "id.orig_h    object\n",
       "id.orig_p     int64\n",
       "id.resp_h    object\n",
       "id.resp_p     int64\n",
       "dtype: object"
      ]
     },
     "execution_count": 4,
     "metadata": {},
     "output_type": "execute_result"
    }
   ],
   "source": [
    "#Which column and data types are in Dataframe?\n",
    "data_frame.dtypes"
   ]
  },
  {
   "cell_type": "markdown",
   "id": "4fb63fe7-4399-4ee6-8ab2-61cd3993407a",
   "metadata": {},
   "source": [
    "# Check empty field guide:\n",
    ">Explanation of isna().sum();\n",
    "> 1. df.isna() creates a boolean DataFrame where True indicates missing values;\n",
    "> 2. df.isna().sum() computes the sum of True values for each column (axis 0 by default), effectively counting the number of missing values in each column."
   ]
  },
  {
   "cell_type": "code",
   "execution_count": 5,
   "id": "ff4c38ef-da73-4e8c-8009-faa35f32a07a",
   "metadata": {
    "tags": []
   },
   "outputs": [
    {
     "data": {
      "text/plain": [
       "proto        0\n",
       "id.orig_h    0\n",
       "id.orig_p    0\n",
       "id.resp_h    0\n",
       "id.resp_p    0\n",
       "dtype: int64"
      ]
     },
     "execution_count": 5,
     "metadata": {},
     "output_type": "execute_result"
    }
   ],
   "source": [
    "#Check there is no emtpy field:\n",
    "data_frame.isna().sum()"
   ]
  },
  {
   "cell_type": "markdown",
   "id": "a3eae833-5248-4cb3-bba1-d7327c57f550",
   "metadata": {},
   "source": [
    "# DataFrame.dropna() guide:\n",
    "Remove missing values from a DataFrame.\n",
    "\n",
    "Parameters:\n",
    "> axis: Determines whether rows (0 or 'index') or columns (1 or 'columns') containing missing values are removed.\n",
    "0 or 'index': Drop rows which contain missing values.\n",
    "1 or 'columns': Drop columns which contain missing values.\n",
    "\n",
    "> how: Determines under what conditions rows or columns are removed from the DataFrame.\n",
    "'any' (default): Drop the row or column if any NA values are present.\n",
    "'all': Drop the row or column only if all values are NA.\n",
    "\n",
    "> inplace: Whether to modify the DataFrame in place (True) or create a new one (False, default).\n",
    "True to modify the DataFrame itself.\n",
    "False to create a new DataFrame with missing values removed.\n"
   ]
  },
  {
   "cell_type": "code",
   "execution_count": 6,
   "id": "067242c9-4d1a-487b-ab37-1ba0570ef130",
   "metadata": {
    "tags": []
   },
   "outputs": [],
   "source": [
    "#If there is any empty cell, drop them:\n",
    "data_frame.dropna(axis=0, how='any', inplace=True)"
   ]
  },
  {
   "cell_type": "markdown",
   "id": "a8d6fb3d-dc06-41e2-8dd2-976aec9edf9a",
   "metadata": {},
   "source": [
    "# Count number of distinct elements in a specific axis:\n",
    "\n",
    "**DataFrame.nunique(axis=0, dropna=True)**  \n",
    "Count number of distinct elements in specified axis.\n",
    "\n",
    "- **axis**:  \n",
    "  {0 or ‘index’, 1 or ‘columns’}, default 0  \n",
    "  The axis to use. 0 or ‘index’ for row-wise, 1 or ‘columns’ for column-wise.\n",
    "\n",
    "- **dropna**:  \n",
    "  bool, default True  \n",
    "  Don’t include NaN in the counts.\n"
   ]
  },
  {
   "cell_type": "code",
   "execution_count": 7,
   "id": "1518314a-cc26-4075-aa7a-05cecc4394c7",
   "metadata": {
    "tags": []
   },
   "outputs": [
    {
     "data": {
      "text/plain": [
       "9"
      ]
     },
     "execution_count": 7,
     "metadata": {},
     "output_type": "execute_result"
    }
   ],
   "source": [
    "#check number of distinct host in id.orig_h col:\n",
    "data_frame['id.orig_h'].nunique()"
   ]
  },
  {
   "cell_type": "code",
   "execution_count": null,
   "id": "9a93c035-c5c4-4ce1-86f1-e6296dc226a8",
   "metadata": {},
   "outputs": [],
   "source": [
    "data_frame.describe()"
   ]
  }
 ],
 "metadata": {
  "kernelspec": {
   "display_name": "Python 3 (ipykernel)",
   "language": "python",
   "name": "python3"
  },
  "language_info": {
   "codemirror_mode": {
    "name": "ipython",
    "version": 3
   },
   "file_extension": ".py",
   "mimetype": "text/x-python",
   "name": "python",
   "nbconvert_exporter": "python",
   "pygments_lexer": "ipython3",
   "version": "3.11.5"
  }
 },
 "nbformat": 4,
 "nbformat_minor": 5
}
