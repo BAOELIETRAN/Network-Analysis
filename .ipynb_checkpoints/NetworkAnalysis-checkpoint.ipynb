{
 "cells": [
  {
   "cell_type": "code",
   "execution_count": 1,
   "id": "34f3d739-a9ba-4c5e-9f25-4021cfc4d3e3",
   "metadata": {
    "tags": []
   },
   "outputs": [],
   "source": [
    "import pandas as pd\n",
    "import networkx as nx\n",
    "import matplotlib.pyplot as plt\n",
    "import zed\n",
    "\n",
    "# Connect to the default lake at http://localhost:9867\n",
    "client = zed.Client()\n",
    "\n",
    "# Define the file name\n",
    "file_name = 'second_cap.pcapng'\n",
    "\n",
    "# Define the Zed query\n",
    "ZQL_query = '_path==\"conn\" | cut id.orig_h, id.orig_p, id.resp_h, id.resp_p, proto | sort id.orig_h, id.resp_h'\n",
    "\n",
    "# Execute the Zed query on the file directly\n",
    "values = client.query(f'from {file_name} | {ZQL_query}')\n",
    "\n",
    "# Convert the iterator to a list and then create a dataframe, flattening the JSON/dictionary structure\n",
    "data_frame = pd.json_normalize(list(values))"
   ]
  },
  {
   "cell_type": "markdown",
   "id": "d1d90d3d-ddbf-4715-b06b-becba9eaa993",
   "metadata": {
    "tags": []
   },
   "source": [
    "# CHECK FOR THE DATA IN DATA_FRAME:"
   ]
  },
  {
   "cell_type": "code",
   "execution_count": 2,
   "id": "d936e798-c1a9-4773-a23a-253bc6b72534",
   "metadata": {
    "tags": []
   },
   "outputs": [
    {
     "name": "stdout",
     "output_type": "stream",
     "text": [
      "44\n"
     ]
    }
   ],
   "source": [
    "#number of records (rows) that data_frame contains\n",
    "print(len(data_frame))"
   ]
  },
  {
   "cell_type": "code",
   "execution_count": 3,
   "id": "0efd6d26-5a71-4281-8010-1f22fe740414",
   "metadata": {
    "tags": []
   },
   "outputs": [
    {
     "data": {
      "text/html": [
       "<div>\n",
       "<style scoped>\n",
       "    .dataframe tbody tr th:only-of-type {\n",
       "        vertical-align: middle;\n",
       "    }\n",
       "\n",
       "    .dataframe tbody tr th {\n",
       "        vertical-align: top;\n",
       "    }\n",
       "\n",
       "    .dataframe thead th {\n",
       "        text-align: right;\n",
       "    }\n",
       "</style>\n",
       "<table border=\"1\" class=\"dataframe\">\n",
       "  <thead>\n",
       "    <tr style=\"text-align: right;\">\n",
       "      <th></th>\n",
       "      <th>proto</th>\n",
       "      <th>id.orig_h</th>\n",
       "      <th>id.orig_p</th>\n",
       "      <th>id.resp_h</th>\n",
       "      <th>id.resp_p</th>\n",
       "    </tr>\n",
       "  </thead>\n",
       "  <tbody>\n",
       "    <tr>\n",
       "      <th>0</th>\n",
       "      <td>udp</td>\n",
       "      <td>192.168.1.1</td>\n",
       "      <td>40703</td>\n",
       "      <td>239.255.255.250</td>\n",
       "      <td>1900</td>\n",
       "    </tr>\n",
       "    <tr>\n",
       "      <th>1</th>\n",
       "      <td>udp</td>\n",
       "      <td>192.168.1.134</td>\n",
       "      <td>5353</td>\n",
       "      <td>224.0.0.251</td>\n",
       "      <td>5353</td>\n",
       "    </tr>\n",
       "    <tr>\n",
       "      <th>2</th>\n",
       "      <td>udp</td>\n",
       "      <td>192.168.1.191</td>\n",
       "      <td>5353</td>\n",
       "      <td>224.0.0.251</td>\n",
       "      <td>5353</td>\n",
       "    </tr>\n",
       "    <tr>\n",
       "      <th>3</th>\n",
       "      <td>tcp</td>\n",
       "      <td>192.168.1.219</td>\n",
       "      <td>50166</td>\n",
       "      <td>3.223.248.73</td>\n",
       "      <td>443</td>\n",
       "    </tr>\n",
       "    <tr>\n",
       "      <th>4</th>\n",
       "      <td>tcp</td>\n",
       "      <td>192.168.1.219</td>\n",
       "      <td>50209</td>\n",
       "      <td>23.212.249.76</td>\n",
       "      <td>443</td>\n",
       "    </tr>\n",
       "    <tr>\n",
       "      <th>5</th>\n",
       "      <td>tcp</td>\n",
       "      <td>192.168.1.219</td>\n",
       "      <td>50208</td>\n",
       "      <td>23.212.249.76</td>\n",
       "      <td>443</td>\n",
       "    </tr>\n",
       "    <tr>\n",
       "      <th>6</th>\n",
       "      <td>tcp</td>\n",
       "      <td>192.168.1.219</td>\n",
       "      <td>49981</td>\n",
       "      <td>23.212.249.76</td>\n",
       "      <td>443</td>\n",
       "    </tr>\n",
       "    <tr>\n",
       "      <th>7</th>\n",
       "      <td>tcp</td>\n",
       "      <td>192.168.1.219</td>\n",
       "      <td>64994</td>\n",
       "      <td>31.13.66.2</td>\n",
       "      <td>443</td>\n",
       "    </tr>\n",
       "    <tr>\n",
       "      <th>8</th>\n",
       "      <td>tcp</td>\n",
       "      <td>192.168.1.219</td>\n",
       "      <td>65451</td>\n",
       "      <td>31.13.66.2</td>\n",
       "      <td>443</td>\n",
       "    </tr>\n",
       "    <tr>\n",
       "      <th>9</th>\n",
       "      <td>tcp</td>\n",
       "      <td>192.168.1.219</td>\n",
       "      <td>49180</td>\n",
       "      <td>31.13.66.2</td>\n",
       "      <td>443</td>\n",
       "    </tr>\n",
       "  </tbody>\n",
       "</table>\n",
       "</div>"
      ],
      "text/plain": [
       "  proto      id.orig_h  id.orig_p        id.resp_h  id.resp_p\n",
       "0   udp    192.168.1.1      40703  239.255.255.250       1900\n",
       "1   udp  192.168.1.134       5353      224.0.0.251       5353\n",
       "2   udp  192.168.1.191       5353      224.0.0.251       5353\n",
       "3   tcp  192.168.1.219      50166     3.223.248.73        443\n",
       "4   tcp  192.168.1.219      50209    23.212.249.76        443\n",
       "5   tcp  192.168.1.219      50208    23.212.249.76        443\n",
       "6   tcp  192.168.1.219      49981    23.212.249.76        443\n",
       "7   tcp  192.168.1.219      64994       31.13.66.2        443\n",
       "8   tcp  192.168.1.219      65451       31.13.66.2        443\n",
       "9   tcp  192.168.1.219      49180       31.13.66.2        443"
      ]
     },
     "execution_count": 3,
     "metadata": {},
     "output_type": "execute_result"
    }
   ],
   "source": [
    "# Display the first 5 rows of the DataFrame\n",
    "data_frame.head(10)"
   ]
  },
  {
   "cell_type": "code",
   "execution_count": 4,
   "id": "1282a15d-a08d-440b-9f61-ff53bb11fbde",
   "metadata": {
    "tags": []
   },
   "outputs": [
    {
     "data": {
      "text/plain": [
       "proto        object\n",
       "id.orig_h    object\n",
       "id.orig_p     int64\n",
       "id.resp_h    object\n",
       "id.resp_p     int64\n",
       "dtype: object"
      ]
     },
     "execution_count": 4,
     "metadata": {},
     "output_type": "execute_result"
    }
   ],
   "source": [
    "#Which column and data types are in Dataframe?\n",
    "data_frame.dtypes"
   ]
  },
  {
   "cell_type": "markdown",
   "id": "4fb63fe7-4399-4ee6-8ab2-61cd3993407a",
   "metadata": {},
   "source": [
    "# Check empty field guide:\n",
    ">Explanation of isna().sum();\n",
    "> 1. df.isna() creates a boolean DataFrame where True indicates missing values;\n",
    "> 2. df.isna().sum() computes the sum of True values for each column (axis 0 by default), effectively counting the number of missing values in each column."
   ]
  },
  {
   "cell_type": "code",
   "execution_count": 5,
   "id": "ff4c38ef-da73-4e8c-8009-faa35f32a07a",
   "metadata": {
    "tags": []
   },
   "outputs": [
    {
     "data": {
      "text/plain": [
       "proto        0\n",
       "id.orig_h    0\n",
       "id.orig_p    0\n",
       "id.resp_h    0\n",
       "id.resp_p    0\n",
       "dtype: int64"
      ]
     },
     "execution_count": 5,
     "metadata": {},
     "output_type": "execute_result"
    }
   ],
   "source": [
    "#Check there is no emtpy field:\n",
    "data_frame.isna().sum()"
   ]
  },
  {
   "cell_type": "markdown",
   "id": "a3eae833-5248-4cb3-bba1-d7327c57f550",
   "metadata": {},
   "source": [
    "# DataFrame.dropna() guide:\n",
    "Remove missing values from a DataFrame.\n",
    "\n",
    "Parameters:\n",
    "> axis: Determines whether rows (0 or 'index') or columns (1 or 'columns') containing missing values are removed.\n",
    "0 or 'index': Drop rows which contain missing values.\n",
    "1 or 'columns': Drop columns which contain missing values.\n",
    "\n",
    "> how: Determines under what conditions rows or columns are removed from the DataFrame.\n",
    "'any' (default): Drop the row or column if any NA values are present.\n",
    "'all': Drop the row or column only if all values are NA.\n",
    "\n",
    "> inplace: Whether to modify the DataFrame in place (True) or create a new one (False, default).\n",
    "True to modify the DataFrame itself.\n",
    "False to create a new DataFrame with missing values removed.\n"
   ]
  },
  {
   "cell_type": "code",
   "execution_count": 6,
   "id": "067242c9-4d1a-487b-ab37-1ba0570ef130",
   "metadata": {
    "tags": []
   },
   "outputs": [],
   "source": [
    "#If there is any empty cell, drop them:\n",
    "data_frame.dropna(axis=0, how='any', inplace=True)"
   ]
  },
  {
   "cell_type": "markdown",
   "id": "a8d6fb3d-dc06-41e2-8dd2-976aec9edf9a",
   "metadata": {},
   "source": [
    "# Count number of distinct elements in a specific axis:\n",
    "\n",
    "**DataFrame.nunique(axis=0, dropna=True)**  \n",
    "Count number of distinct elements in specified axis.\n",
    "\n",
    "- **axis**:  \n",
    "  {0 or ‘index’, 1 or ‘columns’}, default 0  \n",
    "  The axis to use. 0 or ‘index’ for row-wise, 1 or ‘columns’ for column-wise.\n",
    "\n",
    "- **dropna**:  \n",
    "  bool, default True  \n",
    "  Don’t include NaN in the counts.\n"
   ]
  },
  {
   "cell_type": "code",
   "execution_count": 7,
   "id": "1518314a-cc26-4075-aa7a-05cecc4394c7",
   "metadata": {
    "tags": []
   },
   "outputs": [
    {
     "data": {
      "text/plain": [
       "9"
      ]
     },
     "execution_count": 7,
     "metadata": {},
     "output_type": "execute_result"
    }
   ],
   "source": [
    "#check number of distinct host in id.orig_h col:\n",
    "data_frame['id.orig_h'].nunique()"
   ]
  },
  {
   "cell_type": "code",
   "execution_count": 8,
   "id": "9a93c035-c5c4-4ce1-86f1-e6296dc226a8",
   "metadata": {
    "tags": []
   },
   "outputs": [
    {
     "data": {
      "text/html": [
       "<div>\n",
       "<style scoped>\n",
       "    .dataframe tbody tr th:only-of-type {\n",
       "        vertical-align: middle;\n",
       "    }\n",
       "\n",
       "    .dataframe tbody tr th {\n",
       "        vertical-align: top;\n",
       "    }\n",
       "\n",
       "    .dataframe thead th {\n",
       "        text-align: right;\n",
       "    }\n",
       "</style>\n",
       "<table border=\"1\" class=\"dataframe\">\n",
       "  <thead>\n",
       "    <tr style=\"text-align: right;\">\n",
       "      <th></th>\n",
       "      <th>id.orig_p</th>\n",
       "      <th>id.resp_p</th>\n",
       "    </tr>\n",
       "  </thead>\n",
       "  <tbody>\n",
       "    <tr>\n",
       "      <th>count</th>\n",
       "      <td>44.000000</td>\n",
       "      <td>44.000000</td>\n",
       "    </tr>\n",
       "    <tr>\n",
       "      <th>mean</th>\n",
       "      <td>41250.522727</td>\n",
       "      <td>1989.272727</td>\n",
       "    </tr>\n",
       "    <tr>\n",
       "      <th>std</th>\n",
       "      <td>21101.921502</td>\n",
       "      <td>3608.480273</td>\n",
       "    </tr>\n",
       "    <tr>\n",
       "      <th>min</th>\n",
       "      <td>8.000000</td>\n",
       "      <td>0.000000</td>\n",
       "    </tr>\n",
       "    <tr>\n",
       "      <th>25%</th>\n",
       "      <td>47060.750000</td>\n",
       "      <td>443.000000</td>\n",
       "    </tr>\n",
       "    <tr>\n",
       "      <th>50%</th>\n",
       "      <td>50195.500000</td>\n",
       "      <td>443.000000</td>\n",
       "    </tr>\n",
       "    <tr>\n",
       "      <th>75%</th>\n",
       "      <td>50706.750000</td>\n",
       "      <td>948.250000</td>\n",
       "    </tr>\n",
       "    <tr>\n",
       "      <th>max</th>\n",
       "      <td>65451.000000</td>\n",
       "      <td>19900.000000</td>\n",
       "    </tr>\n",
       "  </tbody>\n",
       "</table>\n",
       "</div>"
      ],
      "text/plain": [
       "          id.orig_p     id.resp_p\n",
       "count     44.000000     44.000000\n",
       "mean   41250.522727   1989.272727\n",
       "std    21101.921502   3608.480273\n",
       "min        8.000000      0.000000\n",
       "25%    47060.750000    443.000000\n",
       "50%    50195.500000    443.000000\n",
       "75%    50706.750000    948.250000\n",
       "max    65451.000000  19900.000000"
      ]
     },
     "execution_count": 8,
     "metadata": {},
     "output_type": "execute_result"
    }
   ],
   "source": [
    "data_frame.describe()"
   ]
  },
  {
   "cell_type": "markdown",
   "id": "d1e18f5f-1d28-46f9-8c49-89f53e97ba0e",
   "metadata": {},
   "source": [
    "# Returns a graph from Pandas DataFrame containing an edge list: \n",
    "## from_pandas_edgelist:\n",
    "- Returns a graph from Pandas DataFrame containing an edge list.\n",
    "- (df, source='source', target='target', edge_attr=None, create_using=None, edge_key=None)\n",
    "\n"
   ]
  },
  {
   "cell_type": "code",
   "execution_count": 9,
   "id": "bfd27056-b2e4-4e7f-90b8-8483c1eaa22f",
   "metadata": {
    "tags": []
   },
   "outputs": [],
   "source": [
    "#create the graph denotes the connections between hosts using networkx:\n",
    "graph = nx.from_pandas_edgelist(data_frame, source='id.orig_h', target='id.resp_h', edge_attr=True, create_using=None, edge_key=None)"
   ]
  },
  {
   "cell_type": "code",
   "execution_count": 10,
   "id": "6b298302-280f-4bcc-a5b7-866ff57367cc",
   "metadata": {
    "tags": []
   },
   "outputs": [
    {
     "data": {
      "text/plain": [
       "33"
      ]
     },
     "execution_count": 10,
     "metadata": {},
     "output_type": "execute_result"
    }
   ],
   "source": [
    "#number of nodes:\n",
    "graph.number_of_nodes()"
   ]
  },
  {
   "cell_type": "code",
   "execution_count": 11,
   "id": "5e212a74-8661-4852-bdd2-3a2461dce426",
   "metadata": {
    "tags": []
   },
   "outputs": [
    {
     "data": {
      "text/plain": [
       "31"
      ]
     },
     "execution_count": 11,
     "metadata": {},
     "output_type": "execute_result"
    }
   ],
   "source": [
    "#number of edges:\n",
    "graph.number_of_edges()"
   ]
  },
  {
   "cell_type": "code",
   "execution_count": 12,
   "id": "a3f1cefd-b5ce-402c-b326-ca2edb44da11",
   "metadata": {
    "tags": []
   },
   "outputs": [
    {
     "data": {
      "text/plain": [
       "DegreeView({IPv4Address('192.168.1.1'): 2, IPv4Address('239.255.255.250'): 1, IPv4Address('192.168.1.134'): 2, IPv4Address('224.0.0.251'): 3, IPv4Address('192.168.1.191'): 1, IPv4Address('192.168.1.219'): 24, IPv4Address('3.223.248.73'): 1, IPv4Address('23.212.249.76'): 1, IPv4Address('31.13.66.2'): 1, IPv4Address('31.13.66.4'): 1, IPv4Address('31.13.66.49'): 1, IPv4Address('52.159.49.199'): 1, IPv4Address('52.160.90.77'): 1, IPv4Address('52.182.143.208'): 1, IPv4Address('64.233.180.95'): 1, IPv4Address('66.254.114.41'): 1, IPv4Address('104.16.115.50'): 1, IPv4Address('104.16.116.50'): 1, IPv4Address('108.156.184.88'): 1, IPv4Address('122.11.128.50'): 1, IPv4Address('142.251.111.190'): 1, IPv4Address('162.159.130.234'): 1, IPv4Address('162.247.241.2'): 1, IPv4Address('172.168.11.34'): 1, IPv4Address('172.253.115.95'): 1, IPv4Address('192.168.1.145'): 1, IPv4Address('203.118.6.134'): 1, IPv6Address('fe80::2e64:1fff:feef:9f31'): 1, IPv6Address('ff02::fb'): 3, IPv6Address('fe80::87cd:2c64:4efc:525'): 1, IPv6Address('fe80::ba94:70ff:fe56:49d8'): 1, IPv6Address('ff02::1'): 1, IPv6Address('fe80::e8e2:8bff:fe9a:61c6'): 1})"
      ]
     },
     "execution_count": 12,
     "metadata": {},
     "output_type": "execute_result"
    }
   ],
   "source": [
    "#how many degrees?\n",
    "graph.degree()"
   ]
  },
  {
   "cell_type": "code",
   "execution_count": 13,
   "id": "a217d695-a0a6-42b0-902a-72fd6deabbc1",
   "metadata": {
    "tags": []
   },
   "outputs": [
    {
     "data": {
      "text/plain": [
       "False"
      ]
     },
     "execution_count": 13,
     "metadata": {},
     "output_type": "execute_result"
    }
   ],
   "source": [
    "#check if the graph is directed:\n",
    "graph.is_directed()"
   ]
  },
  {
   "cell_type": "code",
   "execution_count": 14,
   "id": "03174930-6356-4fbb-87be-08c3c9cf59e3",
   "metadata": {
    "tags": []
   },
   "outputs": [
    {
     "data": {
      "image/png": "[encoded data removed]",
      "text/plain": [
       "<Figure size 640x480 with 1 Axes>"
      ]
     },
     "metadata": {},
     "output_type": "display_data"
    }
   ],
   "source": [
    "#draw network graph:\n",
    "nx.draw_networkx(graph)"
   ]
  }
 ],
 "metadata": {
  "kernelspec": {
   "display_name": "Python 3 (ipykernel)",
   "language": "python",
   "name": "python3"
  },
  "language_info": {
   "codemirror_mode": {
    "name": "ipython",
    "version": 3
   },
   "file_extension": ".py",
   "mimetype": "text/x-python",
   "name": "python",
   "nbconvert_exporter": "python",
   "pygments_lexer": "ipython3",
   "version": "3.11.5"
  }
 },
 "nbformat": 4,
 "nbformat_minor": 5
}
